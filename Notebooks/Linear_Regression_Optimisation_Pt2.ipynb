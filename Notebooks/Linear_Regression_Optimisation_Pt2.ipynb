{
 "cells": [
  {
   "cell_type": "markdown",
   "metadata": {},
   "source": [
    "Linear Regression \n",
    "=========================\n",
    "\n",
    "## Optimisation Techniques - Part 2\n",
    "\n",
    "*This notebook describes some of the Optimisation techniques used in practise for Machine Learning*\n",
    "\n",
    "* Momentum\n",
    "* RMSProb\n",
    "* ADAM\n",
    "\n",
    "\n",
    "### Import libraries \n",
    "We will mostly be using numpy for mathematical operations and matplotlib to produce plots "
   ]
  },
  {
   "cell_type": "code",
   "execution_count": 43,
   "metadata": {
    "collapsed": true
   },
   "outputs": [],
   "source": [
    "import numpy as np\n",
    "%matplotlib inline\n",
    "import matplotlib.pyplot as plt"
   ]
  },
  {
   "cell_type": "code",
   "execution_count": 44,
   "metadata": {
    "collapsed": true
   },
   "outputs": [],
   "source": [
    "# Generate some data\n",
    "num_points = 500\n",
    "x_data,y_data = [],[]\n",
    "\n",
    "# Define theta parameters for producing test data \n",
    "t0,t1 = 0.4,0.2\n",
    "\n",
    "for i in xrange(num_points):\n",
    "    x = np.random.normal(0.0,0.55)\n",
    "    y = t0 + (x * t1) + np.random.normal(0.0,0.03)\n",
    "    x_data.append(x)\n",
    "    y_data.append(y)"
   ]
  },
  {
   "cell_type": "markdown",
   "metadata": {},
   "source": [
    "### Define Parameters"
   ]
  },
  {
   "cell_type": "code",
   "execution_count": 45,
   "metadata": {
    "collapsed": true
   },
   "outputs": [],
   "source": [
    "# size of dataset\n",
    "m = np.shape(x_data)[0]\n",
    "# Generate the feature matrix\n",
    "X = np.column_stack((np.ones(m),x_data)) \n",
    "# Initialise theta vector\n",
    "theta = np.array(np.zeros(2))"
   ]
  },
  {
   "cell_type": "markdown",
   "metadata": {},
   "source": [
    "### Cost Function"
   ]
  },
  {
   "cell_type": "code",
   "execution_count": 46,
   "metadata": {
    "collapsed": true
   },
   "outputs": [],
   "source": [
    "def Cost(X,theta,m,y):\n",
    "\n",
    "    h = np.dot(X,theta)\n",
    "    S = np.sum((h - np.transpose(y))**2)\n",
    "    J = S / (m) # or 2*m\n",
    "\n",
    "    return J"
   ]
  },
  {
   "cell_type": "markdown",
   "metadata": {},
   "source": [
    "### Stochastic Gradient Descent (SGD)"
   ]
  },
  {
   "cell_type": "code",
   "execution_count": 47,
   "metadata": {
    "collapsed": true
   },
   "outputs": [],
   "source": [
    "def SGD_hist(X,y,theta,alpha,iterations,m):\n",
    "\n",
    "    Jhist = np.zeros(((iterations*m)+2,1))\n",
    "    Jhist[0] = Cost(X,theta,m,y)\n",
    "    for i in xrange(iterations):\n",
    "        for sample in xrange(m): \n",
    "\n",
    "            h = np.dot(X[sample,:],theta)\n",
    "            errors = h - y[sample]  \n",
    "            theta_change = alpha * np.dot(np.transpose(X[sample,:]),errors)\n",
    "            theta = theta -theta_change \n",
    "\n",
    "            Jhist[(i*m)+sample+1] = Cost(X,theta,m,y)\n",
    "\n",
    "    return theta,Jhist"
   ]
  },
  {
   "cell_type": "markdown",
   "metadata": {},
   "source": [
    "### Alternative Optimisation Techniques:\n",
    "#### Momentum\n",
    "\n",
    "SGD updates parameters more frequently than BGD allowing for faster convergence with fewer iterations on the input training data. One problem that it still suffers from is the fact that it can have trouble navigating the cost surface due to variations in steepness across dimensions. This causes optimisation to take a long zig-zagged route to the local minimum. \n",
    "\n",
    "Momentum aims to take a more direct path to the local minimum by taking into account the previous update.  It does this by adding a fraction $\\lambda$ of the update vector from the previous time step to the current update vector. SGD with Momentum can be given by:\n",
    "\n",
    "$v_t = \\lambda v_{t-1} + \\alpha . \\nabla_\\theta J(\\theta,x^i,y^i) $,\n",
    "\n",
    "$\\theta =  \\theta - v_t$,\n",
    "\n",
    "where $\\lambda$ is typically given the value of $0.9$.\n",
    "\n",
    "Effectively, as the cost surface is navigated, momentum is built up in the direction of the greatest gradient. "
   ]
  },
  {
   "cell_type": "code",
   "execution_count": 48,
   "metadata": {
    "collapsed": true
   },
   "outputs": [],
   "source": [
    "def SGDMom_hist(X,y,theta,alpha,iterations,m,Lambda=0.9):\n",
    "\n",
    "    Jhist = np.zeros(((iterations*m)+2,1))\n",
    "    Jhist[0] = Cost(X,theta,m,y)\n",
    "    v = 0\n",
    "    for i in xrange(iterations):\n",
    "        for sample in xrange(m): \n",
    "\n",
    "            h = np.dot(X[sample,:],theta)\n",
    "            errors = h - y[sample]  \n",
    "            v = (Lambda*v) + (alpha * np.dot(np.transpose(X[sample,:]),errors))\n",
    "            theta = theta - v \n",
    "\n",
    "            Jhist[(i*m)+sample+1] = Cost(X,theta,m,y)\n",
    "\n",
    "    return theta,Jhist"
   ]
  },
  {
   "cell_type": "code",
   "execution_count": 49,
   "metadata": {
    "collapsed": false
   },
   "outputs": [
    {
     "data": {
      "image/png": "[encoded data removed]",
      "text/plain": [
       "<matplotlib.figure.Figure at 0x73f2390>"
      ]
     },
     "metadata": {},
     "output_type": "display_data"
    }
   ],
   "source": [
    "alpha_SGD = 0.01\n",
    "alpha_SGDMom = 0.01\n",
    "# No. iterations for Gradient Descent\n",
    "iterations = 2\n",
    "\n",
    "fig = plt.figure(figsize=(16, 4),facecolor='w', edgecolor='k')\n",
    "\n",
    "# Initialise theta vector\n",
    "theta_SGD = np.array(np.zeros(2)) \n",
    "theta_SGDMom = np.array(np.zeros(2))\n",
    "# Run Gradient Descent\n",
    "theta_SGD,Jhist_SGD       = SGD_hist(X,y_data,theta_SGD,alpha_SGD,iterations,m)\n",
    "theta_SGDMom,Jhist_SGDMom = SGDMom_hist(X,y_data,theta_SGDMom,alpha_SGDMom,iterations,m)\n",
    "\n",
    "plt.plot(xrange(Jhist_SGD.size), Jhist_SGD, linewidth=1, label=\"\".join((\"SGD $ \\\\alpha=$\", str(alpha_SGD) )) )\n",
    "plt.plot(xrange(Jhist_SGDMom.size), Jhist_SGDMom, linewidth=1, label=\"\".join((\"SGD+M $ \\\\alpha=$\", str(alpha_SGDMom) )) )\n",
    "\n",
    "plt.title(\"Cost Function\")\n",
    "plt.xlabel('SGD epoch')\n",
    "plt.ylabel('J($\\Theta$)')\n",
    "plt.legend()\n",
    "#plt.ylim((0,0.18))\n",
    "plt.xlim((0,iterations*m))\n",
    "\n",
    "plt.show()"
   ]
  },
  {
   "cell_type": "code",
   "execution_count": 50,
   "metadata": {
    "collapsed": false
   },
   "outputs": [
    {
     "name": "stdout",
     "output_type": "stream",
     "text": [
      "Number of iterations:  2\n",
      "SGD theta:  [ 0.40202444  0.18831525]  SGD cost:  0.000924900983762\n",
      "SGD+M theta:  [ 0.39733902  0.20153107]  SGD+M cost:  0.000905125121518\n"
     ]
    }
   ],
   "source": [
    "cost_SGD = Cost(X,theta_SGD,m,y_data)\n",
    "cost_SGDMom = Cost(X,theta_SGDMom,m,y_data)\n",
    "print \"Number of iterations: \", iterations\n",
    "print \"SGD theta: \", theta_SGD, \" SGD cost: \", cost_SGD\n",
    "print \"SGD+M theta: \", theta_SGDMom, \" SGD+M cost: \", cost_SGDMom"
   ]
  }
 ],
 "metadata": {
  "kernelspec": {
   "display_name": "Python 2",
   "language": "python",
   "name": "python2"
  },
  "language_info": {
   "codemirror_mode": {
    "name": "ipython",
    "version": 2
   },
   "file_extension": ".py",
   "mimetype": "text/x-python",
   "name": "python",
   "nbconvert_exporter": "python",
   "pygments_lexer": "ipython2",
   "version": "2.7.13"
  }
 },
 "nbformat": 4,
 "nbformat_minor": 0
}
