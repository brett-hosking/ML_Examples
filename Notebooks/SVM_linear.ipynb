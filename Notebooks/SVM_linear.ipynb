{
 "cells": [
  {
   "cell_type": "markdown",
   "metadata": {},
   "source": [
    "Support Vector Machines\n",
    "=========================\n",
    "\n",
    "## SVM with linear decision boundary\n",
    "\n",
    "*This example uses as support vector machine to create a linear decision boundary to separate two classes*\n",
    "\n",
    "### Import libraries \n",
    "We will mostly be using numpy for mathematical operations and matplotlib to produce plots. Scipy and Scikit-Learn are also used for training "
   ]
  },
  {
   "cell_type": "code",
   "execution_count": 27,
   "metadata": {
    "collapsed": false
   },
   "outputs": [],
   "source": [
    "import numpy as np\n",
    "%matplotlib inline\n",
    "import matplotlib.pyplot as plt\n",
    "import scipy.optimize as opt\n",
    "import scipy.io as sio\n",
    "from sklearn import svm "
   ]
  },
  {
   "cell_type": "markdown",
   "metadata": {},
   "source": [
    "### Load Data"
   ]
  },
  {
   "cell_type": "code",
   "execution_count": 28,
   "metadata": {
    "collapsed": false
   },
   "outputs": [],
   "source": [
    "mat = sio.loadmat(\"../data/ex6data1\")\n",
    "X, y = mat['X'], mat['y'] \n",
    "\n",
    "#  X: (51,2)\n",
    "#  y: (51,1)"
   ]
  },
  {
   "cell_type": "markdown",
   "metadata": {},
   "source": [
    "### Training"
   ]
  },
  {
   "cell_type": "code",
   "execution_count": 29,
   "metadata": {
    "collapsed": false
   },
   "outputs": [
    {
     "data": {
      "text/plain": [
       "SVC(C=1.0, cache_size=200, class_weight=None, coef0=0.0, degree=3, gamma=0.0,\n",
       "  kernel='linear', max_iter=-1, probability=False, random_state=None,\n",
       "  shrinking=True, tol=0.001, verbose=False)"
      ]
     },
     "execution_count": 29,
     "metadata": {},
     "output_type": "execute_result"
    }
   ],
   "source": [
    "# Organise data into classes\n",
    "#c1,c2 = np.where(y==1),np.where(y==0)\n",
    "c1,c2 = (y == 1).ravel(),(y == 0).ravel()\n",
    "\n",
    "# Train the SVM using the C-Support Vector Classification\n",
    "'''\n",
    "    The C parameter is a positive value that controls the penalty for the misclassified\n",
    "    trainng examples. A large value intructs the SVM to classify all data points correctly.\n",
    "'''\n",
    "Csup = 1.0 # ~30 will produce a boundary with all points classified correctly\n",
    "clf = svm.SVC(C=Csup, kernel='linear')\n",
    "clf.fit( X, y.flatten() ) "
   ]
  },
  {
   "cell_type": "markdown",
   "metadata": {},
   "source": [
    "### Decision Boundary"
   ]
  },
  {
   "cell_type": "code",
   "execution_count": 30,
   "metadata": {
    "collapsed": true
   },
   "outputs": [],
   "source": [
    "def decision_boundary(svc, X,samples=100):\n",
    "    '''\n",
    "        svc is scikit-learn SVM class using C-Support Vector Classification\n",
    "    '''\n",
    "    x1 = np.linspace(np.min(X[:,0])-0.25,np.max(X[:,0])+0.25,samples)\n",
    "    x2 = np.linspace(np.min(X[:,1])-0.25,np.max(X[:,1])+0.25,samples)\n",
    "\n",
    "    z = np.zeros((samples,samples))\n",
    "    for j in xrange(samples):\n",
    "        for i in xrange(samples):\n",
    "            z[j][i] = float(svc.predict([[x1[j],x2[i]]]))\n",
    "\n",
    "    return x1,x2,z.transpose()"
   ]
  },
  {
   "cell_type": "code",
   "execution_count": 31,
   "metadata": {
    "collapsed": true
   },
   "outputs": [],
   "source": [
    "x1points,x2points,z = decision_boundary(clf, X)"
   ]
  },
  {
   "cell_type": "code",
   "execution_count": 32,
   "metadata": {
    "collapsed": false
   },
   "outputs": [
    {
     "data": {
      "image/png": "[encoded data removed]",
      "text/plain": [
       "<matplotlib.figure.Figure at 0x19f47630>"
      ]
     },
     "metadata": {},
     "output_type": "display_data"
    }
   ],
   "source": [
    "# Plot data with decision boundary\n",
    "fig = plt.figure(figsize=(7, 5),facecolor='w', edgecolor='k')\n",
    "plt.scatter(X[c1,0], X[c1,1], marker='o',c='r',label='class 1')\n",
    "plt.scatter(X[c2,0], X[c2,1], marker='x',c='b',label='class 2')\n",
    "plt.contour(x1points, x2points, z, levels=[0], linewidth=2)\n",
    "plt.xlim([min(X[:,0]-0.25),max(X[:,0])+0.25])\n",
    "plt.ylim([min(X[:,1]-0.25),max(X[:,1])+0.25])\n",
    "plt.xlabel(\"$x_1$\")\n",
    "plt.ylabel(\"$x_2$\")\n",
    "plt.title(\"SVM C-Support Vector Classification. $C=$\" + str(Csup) )\n",
    "plt.legend(loc='best', prop={'size':9},scatterpoints=1)\n",
    "plt.grid(True)\n",
    "plt.show()"
   ]
  }
 ],
 "metadata": {
  "kernelspec": {
   "display_name": "Python 2",
   "language": "python",
   "name": "python2"
  },
  "language_info": {
   "codemirror_mode": {
    "name": "ipython",
    "version": 2
   },
   "file_extension": ".py",
   "mimetype": "text/x-python",
   "name": "python",
   "nbconvert_exporter": "python",
   "pygments_lexer": "ipython2",
   "version": "2.7.13"
  }
 },
 "nbformat": 4,
 "nbformat_minor": 0
}
