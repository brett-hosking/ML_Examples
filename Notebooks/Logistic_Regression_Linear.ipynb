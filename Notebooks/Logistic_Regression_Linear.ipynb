{
 "cells": [
  {
   "cell_type": "markdown",
   "metadata": {},
   "source": [
    "Logisitc Regression\n",
    "=========================\n",
    "\n",
    "## Classifying data with a linear decision boundary\n",
    "\n",
    "*This example shows how logisitc regression can be use to categorise data using a linear decision boundary. This is a supervised learning technique that uses labeled training data*\n",
    "\n",
    "### Import libraries \n",
    "We will mostly be using numpy for mathematical operations and matplotlib to produce plots. Scipy is also used here for optimisation during training. "
   ]
  },
  {
   "cell_type": "code",
   "execution_count": 43,
   "metadata": {
    "collapsed": false
   },
   "outputs": [],
   "source": [
    "import numpy as np\n",
    "%matplotlib inline\n",
    "import matplotlib.pyplot as plt\n",
    "import scipy.optimize as opt # for optimisation"
   ]
  },
  {
   "cell_type": "markdown",
   "metadata": {},
   "source": [
    "### Load Data"
   ]
  },
  {
   "cell_type": "code",
   "execution_count": 44,
   "metadata": {
    "collapsed": false
   },
   "outputs": [],
   "source": [
    "data = np.loadtxt(\"../data/ex2data1.txt\",delimiter=',')\n",
    "x_data = data[:,[0,1]]\n",
    "y_data = data[:,2]"
   ]
  },
  {
   "cell_type": "code",
   "execution_count": 56,
   "metadata": {
    "collapsed": false
   },
   "outputs": [
    {
     "data": {
      "image/png": "[encoded data removed]",
      "text/plain": [
       "<matplotlib.figure.Figure at 0x16ea3a58>"
      ]
     },
     "metadata": {},
     "output_type": "display_data"
    }
   ],
   "source": [
    "pos,neg = np.where(y_data==1),np.where(y_data==0)\n",
    "fig = plt.figure(figsize=(7, 5),facecolor='w', edgecolor='k')\n",
    "plt.scatter(x_data[pos,0],x_data[pos,1], marker='o',c='r',label='class 1')\n",
    "plt.scatter(x_data[neg,0],x_data[neg,1], marker='x',c='b', label='class 2')\n",
    "plt.xlim([min(x_data[:,0]-2),max(x_data[:,0])+2])\n",
    "plt.ylim([min(x_data[:,1]-2),max(x_data[:,1])+2])\n",
    "plt.xlabel(\"$x_1$\")\n",
    "plt.ylabel(\"$x_2$\")\n",
    "plt.title(\"Training Data\")\n",
    "plt.legend(loc='best', prop={'size':9},scatterpoints=1)\n",
    "plt.show()"
   ]
  },
  {
   "cell_type": "markdown",
   "metadata": {},
   "source": [
    "### Define variables based on trainng data"
   ]
  },
  {
   "cell_type": "code",
   "execution_count": 45,
   "metadata": {
    "collapsed": false
   },
   "outputs": [],
   "source": [
    "m = float(np.shape(x_data)[0])  # m training samples\n",
    "n = np.shape(x_data)[1]         # n features"
   ]
  },
  {
   "cell_type": "markdown",
   "metadata": {},
   "source": [
    "### Sigmoid activation function\n",
    "\n",
    "$g(z) = \\frac{1}{1+e^{-z}}$"
   ]
  },
  {
   "cell_type": "code",
   "execution_count": 46,
   "metadata": {
    "collapsed": true
   },
   "outputs": [],
   "source": [
    "def sigmoid(z):\n",
    "\n",
    "    return np.divide(1.0, (np.add(1.0,np.exp(-z)) ) )"
   ]
  },
  {
   "cell_type": "markdown",
   "metadata": {},
   "source": [
    "### Cost Function and Gradient\n",
    "$h_{\\theta}(x) = g(\\theta^T x)$\n",
    "\n",
    "$J(\\theta) = \\frac{1}{m} \\sum^m_{i=1} [-y^{(i)} log(h_{\\theta}(x^{(i)})) - (1-y^{(i)})log(1-h_{\\theta}(x^{(i)}))]$\n",
    "\n",
    "where $i$ is the sample index ($i = 1,2,...,m$)\n",
    "\n",
    "$\\frac{\\delta J(\\theta)}{\\delta \\theta_j} = \\frac{1}{m} \\sum^m_{i=1} (h_{\\theta} (x^{(i)}) - y^{(i)})x_j^{(i)}$\n",
    "\n",
    "where $j$ is the index in each feature $x$ and weight $\\theta$ ($j = 0,1,2,...,n$)"
   ]
  },
  {
   "cell_type": "code",
   "execution_count": 47,
   "metadata": {
    "collapsed": true
   },
   "outputs": [],
   "source": [
    "def costFunc(theta,X,y,m):\n",
    "\n",
    "    H = sigmoid(np.dot(X,theta))\n",
    "    return (1 / m) * np.sum( -np.transpose(y)*np.log(H) - np.transpose(1-y)*np.log((1 - H) + 1e-7) )"
   ]
  },
  {
   "cell_type": "code",
   "execution_count": 48,
   "metadata": {
    "collapsed": true
   },
   "outputs": [],
   "source": [
    "def gradFunc(theta,X,y,m):\n",
    "\n",
    "    H = sigmoid(np.dot(X,theta))\n",
    "    return (1/m) * np.dot(np.transpose(X),(H - y)) "
   ]
  },
  {
   "cell_type": "markdown",
   "metadata": {},
   "source": [
    "### Intialise $\\theta$ and compute cost and gradient"
   ]
  },
  {
   "cell_type": "code",
   "execution_count": 49,
   "metadata": {
    "collapsed": false
   },
   "outputs": [
    {
     "name": "stdout",
     "output_type": "stream",
     "text": [
      "\n",
      "Cost at initial theta (zeros):  0.69314710056\n",
      "Gradient at initial theta (zeros):  [ -0.1        -12.00921659 -11.26284221] \n",
      "\n"
     ]
    }
   ],
   "source": [
    "# add column of 1s\n",
    "X = np.column_stack((np.ones(int(m)),x_data))\n",
    "\n",
    "# Initial theata\n",
    "theta = np.zeros(n+1)\n",
    "\n",
    "# Compute and display initial cost and gradient\n",
    "cost = costFunc(theta,X,y_data,m)\n",
    "grad = gradFunc(theta,X,y_data,m)\n",
    "\n",
    "print '\\nCost at initial theta (zeros): ', cost\n",
    "print 'Gradient at initial theta (zeros): ', grad, '\\n'"
   ]
  },
  {
   "cell_type": "markdown",
   "metadata": {},
   "source": [
    "### Train"
   ]
  },
  {
   "cell_type": "code",
   "execution_count": 50,
   "metadata": {
    "collapsed": false
   },
   "outputs": [
    {
     "name": "stdout",
     "output_type": "stream",
     "text": [
      "\n",
      "Cost at theta at optimum:  0.203497632154\n",
      "theta:  [-25.16132391   0.20623166   0.20147151] \n",
      "\n"
     ]
    }
   ],
   "source": [
    "theta_opt = opt.fmin_bfgs(costFunc, theta, fprime=gradFunc, args=(X, y_data,m),disp=False)\n",
    "cost = costFunc(theta_opt,X,y_data,m) \n",
    "\n",
    "print '\\nCost at theta at optimum: ', cost\n",
    "print 'theta: ', theta_opt, '\\n'"
   ]
  },
  {
   "cell_type": "markdown",
   "metadata": {},
   "source": [
    "### Decision Boundary\n",
    "\n",
    "The decision boundary is of the form:\n",
    "\n",
    "$ y = mx + c = \\theta_0 + \\theta_1 x_1$\n",
    "\n",
    "if $y = x_2$, then:\n",
    "\n",
    "$ \\theta_0 + \\theta_1 x_1 + \\theta_2 x_2 \\leq 0 $\n",
    "\n",
    "so we want to plot the line given by:\n",
    "\n",
    "$x_2 = - \\frac{\\theta_0}{\\theta_{2}} -  \\frac{\\theta_1}{\\theta_2}x_1$"
   ]
  },
  {
   "cell_type": "code",
   "execution_count": 51,
   "metadata": {
    "collapsed": true
   },
   "outputs": [],
   "source": [
    "def decision_boundary(xpoints,theta):\n",
    "    return -np.divide(theta[0],theta[2]) - np.multiply(np.divide(theta[1],theta[2]),xpoints)"
   ]
  },
  {
   "cell_type": "code",
   "execution_count": 52,
   "metadata": {
    "collapsed": true
   },
   "outputs": [],
   "source": [
    "# Calculate the desicision boundary\n",
    "xpoints = np.linspace(min(x_data[:,0])-2,max(x_data[:,0]+2),num=m+4)\n",
    "boundary = decision_boundary(xpoints,theta_opt)"
   ]
  },
  {
   "cell_type": "code",
   "execution_count": 57,
   "metadata": {
    "collapsed": false
   },
   "outputs": [
    {
     "data": {
      "image/png": "[encoded data removed]",
      "text/plain": [
       "<matplotlib.figure.Figure at 0x17195748>"
      ]
     },
     "metadata": {},
     "output_type": "display_data"
    }
   ],
   "source": [
    "fig = plt.figure(figsize=(7, 5),facecolor='w', edgecolor='k')\n",
    "plt.scatter(x_data[pos,0],x_data[pos,1], marker='o',c='r',label='class 1')\n",
    "plt.scatter(x_data[neg,0],x_data[neg,1], marker='x',c='b', label='class 2')\n",
    "plt.plot(xpoints,boundary,linewidth=1.5,c='k', label='hypothesis')\n",
    "plt.xlim([min(x_data[:,0]-2),max(x_data[:,0])+2])\n",
    "plt.ylim([min(x_data[:,1]-2),max(x_data[:,1])+2])\n",
    "plt.xlabel(\"$x_1$\")\n",
    "plt.ylabel(\"$x_2$\")\n",
    "plt.title(\"Logisitic Regression\")\n",
    "plt.legend(loc='best', prop={'size':9},scatterpoints=1)\n",
    "plt.show()"
   ]
  },
  {
   "cell_type": "markdown",
   "metadata": {},
   "source": [
    "### Predict class for new point\n",
    "\n",
    "Using our learnt values of $\\theta$, we can predict which class a new data point should belong to."
   ]
  },
  {
   "cell_type": "code",
   "execution_count": 53,
   "metadata": {
    "collapsed": false
   },
   "outputs": [
    {
     "name": "stdout",
     "output_type": "stream",
     "text": [
      "Probability of new data point being part of class 1:  0.776290597692\n"
     ]
    }
   ],
   "source": [
    "# Point for classification\n",
    "point = [45,85]\n",
    "# Probability of point (x1=45,x2=85) being part of class 1\n",
    "prob = sigmoid(np.dot([1, point[0], point[1]], theta_opt))\n",
    "print \"Probability of new data point being part of class 1: \", prob"
   ]
  },
  {
   "cell_type": "code",
   "execution_count": 58,
   "metadata": {
    "collapsed": false
   },
   "outputs": [
    {
     "data": {
      "image/png": "[encoded data removed]",
      "text/plain": [
       "<matplotlib.figure.Figure at 0x749b198>"
      ]
     },
     "metadata": {},
     "output_type": "display_data"
    }
   ],
   "source": [
    "fig = plt.figure(figsize=(7, 5),facecolor='w', edgecolor='k')\n",
    "plt.scatter(x_data[pos,0],x_data[pos,1], marker='o',c='r',label='class 1')\n",
    "plt.scatter(x_data[neg,0],x_data[neg,1], marker='x',c='b', label='class 2')\n",
    "plt.plot(xpoints,boundary,linewidth=1.5,c='k', label='hypothesis')\n",
    "plt.xlim([min(x_data[:,0]-2),max(x_data[:,0])+2])\n",
    "plt.ylim([min(x_data[:,1]-2),max(x_data[:,1])+2])\n",
    "plt.scatter(point[0],point[1],marker='*',c='green',s=50,label='new point')\n",
    "plt.xlabel(\"$x_1$\")\n",
    "plt.ylabel(\"$x_2$\")\n",
    "plt.title(\"Logisitic Regression\")\n",
    "plt.legend(loc='best', prop={'size':9},scatterpoints=1)\n",
    "plt.show()"
   ]
  },
  {
   "cell_type": "markdown",
   "metadata": {},
   "source": [
    "### Accuracy on training set\n",
    "\n",
    "For this notebook we are just going to look at the accuracy on the training data but in practise you may want to split your data and test the accuracy on unseen data points too."
   ]
  },
  {
   "cell_type": "code",
   "execution_count": 54,
   "metadata": {
    "collapsed": true
   },
   "outputs": [],
   "source": [
    "def accuracy(theta,X,labels):\n",
    "    p = sigmoid(np.dot(X, theta))>=0.5 \n",
    "    return np.mean(p == labels) * 100.0"
   ]
  },
  {
   "cell_type": "code",
   "execution_count": 55,
   "metadata": {
    "collapsed": false
   },
   "outputs": [
    {
     "name": "stdout",
     "output_type": "stream",
     "text": [
      "Accuracy on Training Set:  89.0 %\n"
     ]
    }
   ],
   "source": [
    "# Predict Accuracy on Training Set\n",
    "print \"Accuracy on Training Set: \", accuracy(theta_opt,X,y_data), \"%\""
   ]
  }
 ],
 "metadata": {
  "kernelspec": {
   "display_name": "Python 2",
   "language": "python",
   "name": "python2"
  },
  "language_info": {
   "codemirror_mode": {
    "name": "ipython",
    "version": 2
   },
   "file_extension": ".py",
   "mimetype": "text/x-python",
   "name": "python",
   "nbconvert_exporter": "python",
   "pygments_lexer": "ipython2",
   "version": "2.7.13"
  }
 },
 "nbformat": 4,
 "nbformat_minor": 0
}
